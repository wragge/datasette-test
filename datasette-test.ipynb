{
 "cells": [
  {
   "cell_type": "markdown",
   "metadata": {},
   "source": [
    "Trying to launch Datasette from within a notebook using the new `base_url` parameter."
   ]
  },
  {
   "cell_type": "code",
   "execution_count": 1,
   "metadata": {},
   "outputs": [],
   "source": [
    "import os\n",
    "import pandas as pd\n",
    "import sqlite_utils\n",
    "from notebook.notebookapp import list_running_servers\n",
    "from IPython.display import display, HTML"
   ]
  },
  {
   "cell_type": "code",
   "execution_count": 2,
   "metadata": {},
   "outputs": [
    {
     "data": {
      "text/plain": [
       "<Table articles (article_id, title, newspaper_id, newspaper_title, page, date, category, words, illustrated, corrections, url, page_url)>"
      ]
     },
     "execution_count": 2,
     "metadata": {},
     "output_type": "execute_result"
    }
   ],
   "source": [
    "# Create the db from CSV\n",
    "df = pd.read_csv('results.csv')\n",
    "data = df.to_dict('records')\n",
    "db = sqlite_utils.Database(\"results.db\")\n",
    "db['articles'].insert_all(data)"
   ]
  },
  {
   "cell_type": "code",
   "execution_count": null,
   "metadata": {},
   "outputs": [
    {
     "data": {
      "text/html": [
       "<p><a href=\"/proxy/absolute/8001/\">View Datasette</a> (Click on the stop button to close the Datasette server)</p>"
      ],
      "text/plain": [
       "<IPython.core.display.HTML object>"
      ]
     },
     "metadata": {},
     "output_type": "display_data"
    },
    {
     "name": "stdout",
     "output_type": "stream",
     "text": [
      "Serve! files=('results.db',) (immutables=()) on port 8001\n",
      "\u001b[32mINFO\u001b[0m:     Started server process [\u001b[36m65366\u001b[0m]\n",
      "\u001b[32mINFO\u001b[0m:     Waiting for application startup.\n",
      "\u001b[32mINFO\u001b[0m:     ASGI 'lifespan' protocol appears unsupported.\n",
      "\u001b[32mINFO\u001b[0m:     Application startup complete.\n",
      "\u001b[32mINFO\u001b[0m:     Uvicorn running on \u001b[1mhttp://127.0.0.1:8001\u001b[0m (Press CTRL+C to quit)\n",
      "\u001b[32mINFO\u001b[0m:     127.0.0.1:50725 - \"\u001b[1mGET /proxy/absolute/8001/ HTTP/1.1\u001b[0m\" \u001b[32m200 OK\u001b[0m\n",
      "\u001b[32mINFO\u001b[0m:     127.0.0.1:50727 - \"\u001b[1mGET /proxy/absolute/8001/-/static/app.css?4434ab HTTP/1.1\u001b[0m\" \u001b[32m200 OK\u001b[0m\n",
      "\u001b[32mINFO\u001b[0m:     127.0.0.1:50729 - \"\u001b[1mGET /proxy/absolute/8001/results/articles HTTP/1.1\u001b[0m\" \u001b[32m200 OK\u001b[0m\n",
      "\u001b[32mINFO\u001b[0m:     127.0.0.1:50731 - \"\u001b[1mGET /proxy/absolute/8001/-/static/app.css?4434ab HTTP/1.1\u001b[0m\" \u001b[32m200 OK\u001b[0m\n",
      "\u001b[32mINFO\u001b[0m:     127.0.0.1:50734 - \"\u001b[1mGET /proxy/absolute/8001/results/articles?_facet=page HTTP/1.1\u001b[0m\" \u001b[32m200 OK\u001b[0m\n",
      "\u001b[32mINFO\u001b[0m:     127.0.0.1:50736 - \"\u001b[1mGET /proxy/absolute/8001/-/static/app.css?4434ab HTTP/1.1\u001b[0m\" \u001b[32m200 OK\u001b[0m\n"
     ]
    }
   ],
   "source": [
    "# Get current running servers\n",
    "servers = list_running_servers()\n",
    "\n",
    "# Get the current base url\n",
    "base_url = next(servers)['base_url']\n",
    "\n",
    "# Create a base url for Datasette suing the proxy path\n",
    "proxy_url = f'{base_url}proxy/absolute/8001/'\n",
    "\n",
    "# Display a link to Datasette\n",
    "display(HTML(f'<p><a href=\"{proxy_url}\">View Datasette</a> (Click on the stop button to close the Datasette server)</p>'))\n",
    "\n",
    "# Launch Datasette\n",
    "!datasette -- results.db --port 8001 --config base_url:$proxy_url"
   ]
  },
  {
   "cell_type": "code",
   "execution_count": null,
   "metadata": {},
   "outputs": [],
   "source": []
  }
 ],
 "metadata": {
  "kernelspec": {
   "display_name": "Python 3",
   "language": "python",
   "name": "python3"
  },
  "language_info": {
   "codemirror_mode": {
    "name": "ipython",
    "version": 3
   },
   "file_extension": ".py",
   "mimetype": "text/x-python",
   "name": "python",
   "nbconvert_exporter": "python",
   "pygments_lexer": "ipython3",
   "version": "3.7.3"
  }
 },
 "nbformat": 4,
 "nbformat_minor": 4
}
