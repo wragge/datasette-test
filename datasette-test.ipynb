{
 "cells": [
  {
   "cell_type": "code",
   "execution_count": 3,
   "metadata": {},
   "outputs": [],
   "source": [
    "import os\n",
    "import pandas as pd\n",
    "import sqlite_utils"
   ]
  },
  {
   "cell_type": "code",
   "execution_count": 5,
   "metadata": {},
   "outputs": [
    {
     "data": {
      "text/plain": [
       "<Table articles (article_id, title, newspaper_id, newspaper_title, page, date, category, words, illustrated, corrections, url, page_url)>"
      ]
     },
     "execution_count": 5,
     "metadata": {},
     "output_type": "execute_result"
    }
   ],
   "source": [
    "# Create the db from CSV\n",
    "df = pd.read_csv('results.csv')\n",
    "data = df.to_dict('records')\n",
    "db = sqlite_utils.Database(\"results.db\")\n",
    "db['articles'].insert_all(data)"
   ]
  },
  {
   "cell_type": "code",
   "execution_count": null,
   "metadata": {},
   "outputs": [
    {
     "name": "stdout",
     "output_type": "stream",
     "text": [
      "hello\n",
      "Serve! files=('results.db',) (immutables=()) on port 8001\n",
      "\u001b[32mINFO\u001b[0m:     Started server process [\u001b[36m59140\u001b[0m]\n",
      "\u001b[32mINFO\u001b[0m:     Waiting for application startup.\n",
      "\u001b[32mINFO\u001b[0m:     Application startup complete.\n",
      "\u001b[32mINFO\u001b[0m:     Uvicorn running on \u001b[1mhttp://127.0.0.1:8001\u001b[0m (Press CTRL+C to quit)\n"
     ]
    }
   ],
   "source": [
    "# Launch Datasette\n",
    "\n",
    "!datasette -- results.db --port 8001 --config base_url:/proxy/8001/"
   ]
  },
  {
   "cell_type": "code",
   "execution_count": null,
   "metadata": {},
   "outputs": [],
   "source": [
    "Datasette should be accessible [here](/prox)"
   ]
  }
 ],
 "metadata": {
  "kernelspec": {
   "display_name": "Python 3",
   "language": "python",
   "name": "python3"
  },
  "language_info": {
   "codemirror_mode": {
    "name": "ipython",
    "version": 3
   },
   "file_extension": ".py",
   "mimetype": "text/x-python",
   "name": "python",
   "nbconvert_exporter": "python",
   "pygments_lexer": "ipython3",
   "version": "3.7.3"
  }
 },
 "nbformat": 4,
 "nbformat_minor": 4
}
