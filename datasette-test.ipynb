{
 "cells": [
  {
   "cell_type": "markdown",
   "metadata": {},
   "source": [
    "Trying to launch Datasette from within a notebook using the new `base_url` parameter."
   ]
  },
  {
   "cell_type": "code",
   "execution_count": null,
   "metadata": {},
   "outputs": [],
   "source": [
    "import os\n",
    "import pandas as pd\n",
    "import sqlite_utils\n",
    "from notebook.notebookapp import list_running_servers\n",
    "from IPython.display import display, HTML"
   ]
  },
  {
   "cell_type": "code",
   "execution_count": null,
   "metadata": {},
   "outputs": [],
   "source": [
    "# Create the db from CSV\n",
    "df = pd.read_csv('results.csv')\n",
    "data = df.to_dict('records')\n",
    "db = sqlite_utils.Database(\"results.db\")\n",
    "db['articles'].insert_all(data)"
   ]
  },
  {
   "cell_type": "code",
   "execution_count": null,
   "metadata": {},
   "outputs": [],
   "source": [
    "# Get current running servers\n",
    "servers = list_running_servers()\n",
    "\n",
    "# Get the current base url\n",
    "base_url = next(servers)['base_url']\n",
    "\n",
    "# Create a base url for Datasette suing the proxy path\n",
    "proxy_url = f'{base_url}proxy/8001/'\n",
    "\n",
    "# Display a link to Datasette\n",
    "display(HTML(f'<p><a href=\"{proxy_url}\">View Datasette</a> (Click on the stop button to close the Datasette server)</p>'))\n",
    "\n",
    "# Launch Datasette\n",
    "!datasette -- results.db --port 8001 --config base_url:$proxy_url"
   ]
  },
  {
   "cell_type": "code",
   "execution_count": null,
   "metadata": {},
   "outputs": [],
   "source": []
  }
 ],
 "metadata": {
  "kernelspec": {
   "display_name": "Python 3",
   "language": "python",
   "name": "python3"
  },
  "language_info": {
   "codemirror_mode": {
    "name": "ipython",
    "version": 3
   },
   "file_extension": ".py",
   "mimetype": "text/x-python",
   "name": "python",
   "nbconvert_exporter": "python",
   "pygments_lexer": "ipython3",
   "version": "3.7.3"
  }
 },
 "nbformat": 4,
 "nbformat_minor": 4
}
